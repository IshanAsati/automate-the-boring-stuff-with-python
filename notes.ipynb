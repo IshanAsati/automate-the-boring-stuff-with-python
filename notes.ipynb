{
 "cells": [
  {
   "cell_type": "markdown",
   "metadata": {},
   "source": [
    "# The preface "
   ]
  },
  {
   "cell_type": "markdown",
   "metadata": {},
   "source": [
    "When I doing [google hashcode 2018](https://codingcompetitions.withgoogle.com/hashcode/archive), I found that I could not finished the task in 3 hours. It's so hard for me.\n",
    "\n",
    "The first thing that drags me is that I do not know how to realize a functionality in a decent way. I just spend 5 hours to write a helper function into the loop. The second thing is that I do not really know whether I should use numpy-array,list or dict to store my objects. The third thing is that I do not good at debug my program. Although I write my ideas on a blank paper and then coding it. There are still several bugs in the first draft code. I spend a little time to debug by code.\n",
    "\n",
    "After I finished my code, I go the rank board of hashcode 2018. I found that I did not give a good solution. I only care about coding and did not really focus on math. The NP-hard problem need a lot of mathmatic knowledge to give a estimated solution. I did not good at optimsing and algorithms. I watch a winners' video on Youtube. He is a Russian and he spend all his time to mathmatic part of the question and do not feel any impeded by coding part. Which makes me feel that I should code more and let code by my natural. If I am really good at coding, I think I can focus more on math when solving the problem.\n",
    "\n",
    "To achieve a better understanding of python standard library, I decided to read the book: **Automate The Broing Stuff with Python**. I think I can know what functionality can be easily realized by standard library and what is not."
   ]
  },
  {
   "cell_type": "markdown",
   "metadata": {
    "ExecuteTime": {
     "end_time": "2020-01-27T03:05:56.136259Z",
     "start_time": "2020-01-27T03:05:56.133295Z"
    }
   },
   "source": [
    "## Part 1: Python Programming Basics \n",
    "### Python Basics"
   ]
  },
  {
   "cell_type": "markdown",
   "metadata": {
    "ExecuteTime": {
     "end_time": "2020-01-27T03:11:45.849032Z",
     "start_time": "2020-01-27T03:11:45.846038Z"
    }
   },
   "source": [
    "**Entreing Expressions into the Interactive Shell**\n",
    "\n",
    "| Operator |             Operation             | Example | Evaluates to |\n",
    "|:--------:|:---------------------------------:|:-------:|:------------:|\n",
    "|    **    |              Exponent             | 2 ** 3  |       8      |\n",
    "|     %    |         Modeulus/remainder        |  22 % 8 |       6      |\n",
    "|    //    | Integer division/floored quotient |  22//8  |       2      |\n",
    "|     /    |              Division             |   22/8  |     2.75     |\n",
    "|     *    |           Multiplication          |   3*5   |      15      |\n",
    "|     -    |            Substraction           |   5-2   |       3      |\n",
    "|     +    |              Addition             |   2+2   |       4      |"
   ]
  },
  {
   "cell_type": "markdown",
   "metadata": {
    "ExecuteTime": {
     "end_time": "2020-01-27T03:26:17.592346Z",
     "start_time": "2020-01-27T03:26:17.480645Z"
    }
   },
   "source": [
    "__The Integer,Floating-Point, and String Data Types__"
   ]
  },
  {
   "cell_type": "markdown",
   "metadata": {},
   "source": [
    "__String Concatenation and Replication__"
   ]
  },
  {
   "cell_type": "code",
   "execution_count": 4,
   "metadata": {
    "ExecuteTime": {
     "end_time": "2020-01-27T03:27:47.879330Z",
     "start_time": "2020-01-27T03:27:47.872346Z"
    }
   },
   "outputs": [
    {
     "data": {
      "text/plain": [
       "'AliceBob'"
      ]
     },
     "execution_count": 4,
     "metadata": {},
     "output_type": "execute_result"
    }
   ],
   "source": [
    "'Alice'+'Bob'"
   ]
  },
  {
   "cell_type": "code",
   "execution_count": 5,
   "metadata": {
    "ExecuteTime": {
     "end_time": "2020-01-27T03:27:57.823253Z",
     "start_time": "2020-01-27T03:27:57.818245Z"
    }
   },
   "outputs": [
    {
     "ename": "SyntaxError",
     "evalue": "can't assign to literal (<ipython-input-5-701b0ef864ef>, line 1)",
     "output_type": "error",
     "traceback": [
      "\u001b[1;36m  File \u001b[1;32m\"<ipython-input-5-701b0ef864ef>\"\u001b[1;36m, line \u001b[1;32m1\u001b[0m\n\u001b[1;33m    'Alice'=42\u001b[0m\n\u001b[1;37m              ^\u001b[0m\n\u001b[1;31mSyntaxError\u001b[0m\u001b[1;31m:\u001b[0m can't assign to literal\n"
     ]
    }
   ],
   "source": [
    "'Alice'=42"
   ]
  },
  {
   "cell_type": "code",
   "execution_count": 6,
   "metadata": {
    "ExecuteTime": {
     "end_time": "2020-01-27T03:28:44.327387Z",
     "start_time": "2020-01-27T03:28:44.324367Z"
    }
   },
   "outputs": [
    {
     "data": {
      "text/plain": [
       "'AliceAliceAliceAliceAlice'"
      ]
     },
     "execution_count": 6,
     "metadata": {},
     "output_type": "execute_result"
    }
   ],
   "source": [
    "'Alice'*5"
   ]
  },
  {
   "cell_type": "code",
   "execution_count": 7,
   "metadata": {
    "ExecuteTime": {
     "end_time": "2020-01-27T03:28:53.077738Z",
     "start_time": "2020-01-27T03:28:53.074745Z"
    }
   },
   "outputs": [
    {
     "ename": "SyntaxError",
     "evalue": "invalid syntax (<ipython-input-7-b19b732a0e50>, line 1)",
     "output_type": "error",
     "traceback": [
      "\u001b[1;36m  File \u001b[1;32m\"<ipython-input-7-b19b732a0e50>\"\u001b[1;36m, line \u001b[1;32m1\u001b[0m\n\u001b[1;33m    'Alice'Bob'\u001b[0m\n\u001b[1;37m             ^\u001b[0m\n\u001b[1;31mSyntaxError\u001b[0m\u001b[1;31m:\u001b[0m invalid syntax\n"
     ]
    }
   ],
   "source": [
    "'Alice'Bob'"
   ]
  },
  {
   "cell_type": "code",
   "execution_count": 9,
   "metadata": {
    "ExecuteTime": {
     "end_time": "2020-01-27T03:29:03.311468Z",
     "start_time": "2020-01-27T03:29:03.306441Z"
    }
   },
   "outputs": [
    {
     "ename": "TypeError",
     "evalue": "can't multiply sequence by non-int of type 'float'",
     "output_type": "error",
     "traceback": [
      "\u001b[1;31m---------------------------------------------------------------------------\u001b[0m",
      "\u001b[1;31mTypeError\u001b[0m                                 Traceback (most recent call last)",
      "\u001b[1;32m<ipython-input-9-43325524c797>\u001b[0m in \u001b[0;36m<module>\u001b[1;34m\u001b[0m\n\u001b[1;32m----> 1\u001b[1;33m \u001b[1;34m'Alice'\u001b[0m \u001b[1;33m*\u001b[0m \u001b[1;36m5.0\u001b[0m\u001b[1;33m\u001b[0m\u001b[1;33m\u001b[0m\u001b[0m\n\u001b[0m",
      "\u001b[1;31mTypeError\u001b[0m: can't multiply sequence by non-int of type 'float'"
     ]
    }
   ],
   "source": [
    "'Alice' * 5.0"
   ]
  },
  {
   "cell_type": "markdown",
   "metadata": {},
   "source": [
    "__Storing Values in Variables__\n",
    "\n",
    "A _variable_ is like a box in the computer's memory where you can store a single value. If you wan to use the result of an evaluated expression later in your program, you can save it inside a variable."
   ]
  },
  {
   "cell_type": "markdown",
   "metadata": {
    "ExecuteTime": {
     "end_time": "2020-01-27T03:52:09.629559Z",
     "start_time": "2020-01-27T03:52:09.626540Z"
    }
   },
   "source": [
    "Assignment statements"
   ]
  },
  {
   "cell_type": "code",
   "execution_count": 10,
   "metadata": {
    "ExecuteTime": {
     "end_time": "2020-01-27T03:50:09.600079Z",
     "start_time": "2020-01-27T03:50:09.597083Z"
    }
   },
   "outputs": [],
   "source": [
    "spam = 42\n",
    "eggs = 2"
   ]
  },
  {
   "cell_type": "code",
   "execution_count": 12,
   "metadata": {
    "ExecuteTime": {
     "end_time": "2020-01-27T03:50:28.935088Z",
     "start_time": "2020-01-27T03:50:28.930100Z"
    }
   },
   "outputs": [
    {
     "data": {
      "text/plain": [
       "(44, 86)"
      ]
     },
     "execution_count": 12,
     "metadata": {},
     "output_type": "execute_result"
    }
   ],
   "source": [
    "spam + eggs,spam + eggs + spam"
   ]
  },
  {
   "cell_type": "code",
   "execution_count": 13,
   "metadata": {
    "ExecuteTime": {
     "end_time": "2020-01-27T03:50:40.909261Z",
     "start_time": "2020-01-27T03:50:40.906246Z"
    }
   },
   "outputs": [
    {
     "data": {
      "text/plain": [
       "44"
      ]
     },
     "execution_count": 13,
     "metadata": {},
     "output_type": "execute_result"
    }
   ],
   "source": [
    "spam = spam + 2\n",
    "spam"
   ]
  },
  {
   "cell_type": "markdown",
   "metadata": {},
   "source": [
    "Overwriting a variable"
   ]
  },
  {
   "cell_type": "code",
   "execution_count": 20,
   "metadata": {
    "ExecuteTime": {
     "end_time": "2020-01-27T03:51:28.925024Z",
     "start_time": "2020-01-27T03:51:28.923004Z"
    }
   },
   "outputs": [
    {
     "data": {
      "text/plain": [
       "'Hello'"
      ]
     },
     "execution_count": 20,
     "metadata": {},
     "output_type": "execute_result"
    }
   ],
   "source": [
    "spam = 'Hello'\n",
    "spam"
   ]
  },
  {
   "cell_type": "code",
   "execution_count": 26,
   "metadata": {
    "ExecuteTime": {
     "end_time": "2020-01-27T04:15:16.203312Z",
     "start_time": "2020-01-27T04:15:16.200328Z"
    }
   },
   "outputs": [
    {
     "data": {
      "text/plain": [
       "'Goodbye'"
      ]
     },
     "execution_count": 26,
     "metadata": {},
     "output_type": "execute_result"
    }
   ],
   "source": [
    "spam = 'Goodbye'\n",
    "spam"
   ]
  },
  {
   "cell_type": "markdown",
   "metadata": {},
   "source": [
    "Variable names\n",
    "\n",
    "1. It can be only one word\n",
    "2. It can use only letters, numbers and the underscore(_) character\n",
    "3. It can't begin with a number"
   ]
  },
  {
   "cell_type": "markdown",
   "metadata": {},
   "source": [
    "| Valid variable names | Invalid variable names                                 |\n",
    "|----------------------|--------------------------------------------------------|\n",
    "| balance              | current-balance (hyphens are not allowed)              |\n",
    "| currentBalance       | current balance (spaces are not allowed)               |\n",
    "| current_balance      | 4account (can't begin with a number)                   |\n",
    "| _spam                | 42 (can't begin with a number)                         |\n",
    "| SPAM                 | total_\\\\$um (special characters like \\\\$ are not allowed) |\n",
    "| account4             | 'hello' (special characters like ' are not allowed)    |"
   ]
  },
  {
   "cell_type": "markdown",
   "metadata": {
    "ExecuteTime": {
     "end_time": "2020-01-27T04:01:37.277242Z",
     "start_time": "2020-01-27T04:01:37.274222Z"
    }
   },
   "source": [
    "Variable names are case-sensitive, meaning that spam,SPAM,Span and sPam are four differnet variables. It is a Python convention to start your variables with a lowercase letter.\n",
    "\n",
    "This book uses camelcase for variable names instead of underscores; that is , variables `lookLikeThis` instead of `looking_like_this`. Some experienced programmers may point out that the official Python code style.,PEP 8, says that underscores should be used.\n",
    "\n",
    "A good variable name describes the data it contains. It will make your code more readable."
   ]
  },
  {
   "cell_type": "code",
   "execution_count": 46,
   "metadata": {
    "ExecuteTime": {
     "end_time": "2020-01-27T06:03:25.289150Z",
     "start_time": "2020-01-27T06:03:21.336540Z"
    }
   },
   "outputs": [
    {
     "name": "stdout",
     "output_type": "stream",
     "text": [
      "hello world!\n",
      "What is your name?\n",
      "Travis\n",
      "It is good to meet you, Travis\n",
      "6\n",
      "What is your age?\n",
      "12\n",
      "You will be 13 in a year,\n"
     ]
    }
   ],
   "source": [
    "%run ./ch1/ch1.ipynb"
   ]
  },
  {
   "cell_type": "markdown",
   "metadata": {
    "ExecuteTime": {
     "end_time": "2020-01-27T05:37:24.148628Z",
     "start_time": "2020-01-27T05:37:24.144619Z"
    }
   },
   "source": [
    "Python ignores comments, and you can use them to write notes or remind your self what hte code is tring to do.Any text for the rest of the line following a hash mark(#) is a part of a comment. \n",
    "\n",
    "Sometimes, programmers will put a # in front of a line of code to temporarily remove it while testiing a pogram. This is called __commenting out code__, and it can be useful when you're trying to figure out why a program doesnt't work. YOu can remove the # when you are ready to put the line back in.\n",
    "\n",
    "Python can not __concatenate__ different types of objects. For instance, Python do not know how to evaluate `5 + '1'`. However, we can use `int`,`str` and `float` functions to change the type of variables. Then, we can operate on variables with the same type."
   ]
  },
  {
   "cell_type": "code",
   "execution_count": 47,
   "metadata": {
    "ExecuteTime": {
     "end_time": "2020-01-27T06:20:20.229377Z",
     "start_time": "2020-01-27T06:20:20.223386Z"
    }
   },
   "outputs": [
    {
     "ename": "TypeError",
     "evalue": "unsupported operand type(s) for +: 'int' and 'str'",
     "output_type": "error",
     "traceback": [
      "\u001b[1;31m---------------------------------------------------------------------------\u001b[0m",
      "\u001b[1;31mTypeError\u001b[0m                                 Traceback (most recent call last)",
      "\u001b[1;32m<ipython-input-47-eca5068b429e>\u001b[0m in \u001b[0;36m<module>\u001b[1;34m\u001b[0m\n\u001b[1;32m----> 1\u001b[1;33m \u001b[1;36m5\u001b[0m \u001b[1;33m+\u001b[0m \u001b[1;34m'1'\u001b[0m\u001b[1;33m\u001b[0m\u001b[1;33m\u001b[0m\u001b[0m\n\u001b[0m",
      "\u001b[1;31mTypeError\u001b[0m: unsupported operand type(s) for +: 'int' and 'str'"
     ]
    }
   ],
   "source": [
    "5 + '1'"
   ]
  },
  {
   "cell_type": "code",
   "execution_count": 48,
   "metadata": {
    "ExecuteTime": {
     "end_time": "2020-01-27T06:21:24.698310Z",
     "start_time": "2020-01-27T06:21:24.693324Z"
    }
   },
   "outputs": [
    {
     "data": {
      "text/plain": [
       "6"
      ]
     },
     "execution_count": 48,
     "metadata": {},
     "output_type": "execute_result"
    }
   ],
   "source": [
    "5 + int('1')"
   ]
  },
  {
   "cell_type": "markdown",
   "metadata": {},
   "source": [
    "We can use int to round a floating-point number down"
   ]
  },
  {
   "cell_type": "code",
   "execution_count": 50,
   "metadata": {
    "ExecuteTime": {
     "end_time": "2020-01-27T06:38:03.449576Z",
     "start_time": "2020-01-27T06:38:03.445618Z"
    }
   },
   "outputs": [
    {
     "data": {
      "text/plain": [
       "7"
      ]
     },
     "execution_count": 50,
     "metadata": {},
     "output_type": "execute_result"
    }
   ],
   "source": [
    "int(7.7)"
   ]
  },
  {
   "cell_type": "markdown",
   "metadata": {},
   "source": [
    "__Practice Questions__\n",
    "\n",
    "- 4. What is an expression made up of? What do all expressions do? What is the similarity and difference between `expression` and `statement`?\n",
    "\n",
    "> An expresson can only contains identifiers, literals and operators. However, a statement.All expressions need to be evaluated and to reduce to a value, which can be any type of objects in Python.\n",
    "A statement is an instruction that the Python interpreter can execute. We have only seen the assignment statement so far. Some other kinds of statements that we’ll see shortly are `while` statements, `for` statements, `if` statements, and `import` statements. (There are other kinds too!)\n",
    "\n",
    "> An expression is a combination of values, variables, operators, and calls to functions. Expressions need to be evaluated. If you ask Python to `print` an expression, the interpreter evaluates the expression and displays the result.\n",
    "\n",
    "> Expression is a part of statements.\n",
    "\n",
    "> Source: \n",
    "1. [What is the difference between an expression and a statement in Python?](https://stackoverflow.com/questions/4728073/what-is-the-difference-between-an-expression-and-a-statement-in-python) See the top2 answer and the last ansmer.\n",
    "2. [official guide for expressions](https://docs.python.org/zh-cn/3/reference/expressions.html).\n",
    "3. [official guide for statements](https://docs.python.org/3/reference/simple_stmts.html)\n",
    "4. [thinkcspy](https://runestone.academy/runestone/books/published/thinkcspy/SimplePythonData/StatementsandExpressions.html)\n",
    "\n",
    "\n",
    "- 9. What three functions can be used to get the integer, floating-point number, or string version of a value?\n",
    "\n",
    "> `int`,`float` and `str`.\n",
    "\n",
    "- Extra credit: Search online for the Pyton documentation for the `len()` function. It will be on a web page titled \"Built-in Functions.\"Skim the list of ohter functions Python has, look up what the `round` function does, and experiment with it in the interactive shell.\n",
    "\n",
    "> For the built-in types supporting `round()`, values are rounded to the closest multiple of 10 to the power minus __ndigits__; if two multiples are equally close, rounding is done toward the even choice (so, for example, both `round(0.5)` and round`(-0.5)` are `0`, and `round(1.5)` is `2`). Any integer value is valid for __ndigits__ (positive, zero, or negative). The return value is an integer if ndigits is omitted or `None`. Otherwise the return value has the same type as number."
   ]
  },
  {
   "cell_type": "code",
   "execution_count": 99,
   "metadata": {
    "ExecuteTime": {
     "end_time": "2020-01-27T07:17:05.469053Z",
     "start_time": "2020-01-27T07:17:05.465069Z"
    }
   },
   "outputs": [
    {
     "data": {
      "text/plain": [
       "10.01"
      ]
     },
     "execution_count": 99,
     "metadata": {},
     "output_type": "execute_result"
    }
   ],
   "source": [
    "round(10.01457,2)"
   ]
  },
  {
   "cell_type": "code",
   "execution_count": 103,
   "metadata": {
    "ExecuteTime": {
     "end_time": "2020-01-27T07:18:13.103324Z",
     "start_time": "2020-01-27T07:18:13.100321Z"
    }
   },
   "outputs": [
    {
     "data": {
      "text/plain": [
       "10.02"
      ]
     },
     "execution_count": 103,
     "metadata": {},
     "output_type": "execute_result"
    }
   ],
   "source": [
    "# because 10.02 is even and 10.01 is old, round to the even choice when 2 multiples are equally close\n",
    "round(10.015,2)"
   ]
  },
  {
   "cell_type": "code",
   "execution_count": 104,
   "metadata": {
    "ExecuteTime": {
     "end_time": "2020-01-27T07:18:14.787101Z",
     "start_time": "2020-01-27T07:18:14.783140Z"
    }
   },
   "outputs": [
    {
     "data": {
      "text/plain": [
       "140"
      ]
     },
     "execution_count": 104,
     "metadata": {},
     "output_type": "execute_result"
    }
   ],
   "source": [
    "round(145,ndigits= -1)"
   ]
  },
  {
   "cell_type": "markdown",
   "metadata": {},
   "source": [
    "### Flow Control"
   ]
  },
  {
   "cell_type": "code",
   "execution_count": null,
   "metadata": {},
   "outputs": [],
   "source": []
  }
 ],
 "metadata": {
  "kernelspec": {
   "display_name": "Python 3",
   "language": "python",
   "name": "python3"
  },
  "language_info": {
   "codemirror_mode": {
    "name": "ipython",
    "version": 3
   },
   "file_extension": ".py",
   "mimetype": "text/x-python",
   "name": "python",
   "nbconvert_exporter": "python",
   "pygments_lexer": "ipython3",
   "version": "3.7.1"
  },
  "toc": {
   "base_numbering": 1,
   "nav_menu": {},
   "number_sections": true,
   "sideBar": true,
   "skip_h1_title": false,
   "title_cell": "Table of Contents",
   "title_sidebar": "Contents",
   "toc_cell": false,
   "toc_position": {},
   "toc_section_display": true,
   "toc_window_display": true
  },
  "varInspector": {
   "cols": {
    "lenName": 16,
    "lenType": 16,
    "lenVar": 40
   },
   "kernels_config": {
    "python": {
     "delete_cmd_postfix": "",
     "delete_cmd_prefix": "del ",
     "library": "var_list.py",
     "varRefreshCmd": "print(var_dic_list())"
    },
    "r": {
     "delete_cmd_postfix": ") ",
     "delete_cmd_prefix": "rm(",
     "library": "var_list.r",
     "varRefreshCmd": "cat(var_dic_list()) "
    }
   },
   "types_to_exclude": [
    "module",
    "function",
    "builtin_function_or_method",
    "instance",
    "_Feature"
   ],
   "window_display": false
  }
 },
 "nbformat": 4,
 "nbformat_minor": 2
}
